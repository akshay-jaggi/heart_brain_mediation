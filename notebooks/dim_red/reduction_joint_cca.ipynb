{
  "nbformat": 4,
  "nbformat_minor": 0,
  "metadata": {
    "colab": {
      "name": "reduction_joint.ipynb",
      "provenance": []
    },
    "kernelspec": {
      "name": "python3",
      "display_name": "Python 3"
    },
    "language_info": {
      "name": "python"
    }
  },
  "cells": [
    {
      "cell_type": "code",
      "execution_count": null,
      "metadata": {
        "id": "U_ipsjW9gUlD"
      },
      "outputs": [],
      "source": [
        "import numpy as np\n",
        "import pandas as pd\n",
        "from sklearn.cross_decomposition import CCA\n",
        "from sklearn.model_selection import cross_val_score\n",
        "from matplotlib import pyplot as plt"
      ]
    },
    {
      "cell_type": "code",
      "source": [
        "heart = pd.read_csv('heart.csv')\n",
        "brain = pd.read_csv('brain.csv')"
      ],
      "metadata": {
        "id": "_nkHWIRtgbs0"
      },
      "execution_count": null,
      "outputs": []
    },
    {
      "cell_type": "code",
      "source": [
        "cca = CCA(n_components=10, scale = False)\n",
        "scores = cross_val_score(cca, heart, brain)\n",
        "#heart_cc, brain_cc = cca.fit_transform(heart, brain)"
      ],
      "metadata": {
        "id": "CNU3_hNZg-jO"
      },
      "execution_count": null,
      "outputs": []
    },
    {
      "cell_type": "code",
      "source": [
        "scores"
      ],
      "metadata": {
        "colab": {
          "base_uri": "https://localhost:8080/"
        },
        "id": "0TnnSy0rVeZT",
        "outputId": "72e42b63-4dd9-49fd-c866-1573e1e07b0a"
      },
      "execution_count": null,
      "outputs": [
        {
          "output_type": "execute_result",
          "data": {
            "text/plain": [
              "array([  -86.77492438,    -5.61765168,   -86.11773028,   -18.60597683,\n",
              "       -3558.96159472])"
            ]
          },
          "metadata": {},
          "execution_count": 4
        }
      ]
    },
    {
      "cell_type": "code",
      "source": [
        "pd.DataFrame(cca.x_weights_,index=heart.columns).to_csv('heart_weights.csv')\n",
        "pd.DataFrame(cca.y_weights_,index=brain.columns).to_csv('brain_weights.csv')\n",
        "pd.DataFrame(cca.x_loadings_,index=heart.columns).to_csv('heart_loadings.csv')\n",
        "pd.DataFrame(cca.y_loadings_,index=brain.columns).to_csv('brain_loadings.csv')\n",
        "pd.DataFrame(cca.x_rotations_,index=heart.columns).to_csv('heart_rotations.csv')\n",
        "pd.DataFrame(cca.y_rotations_,index=brain.columns).to_csv('brain_rotations.csv')\n",
        "pd.DataFrame(heart_cc).to_csv('heart_ccs.csv')\n",
        "pd.DataFrame(brain_cc).to_csv('brain_ccs.csv')"
      ],
      "metadata": {
        "id": "FMB_QSLQq3-U"
      },
      "execution_count": null,
      "outputs": []
    },
    {
      "cell_type": "code",
      "source": [
        ""
      ],
      "metadata": {
        "id": "xSdcXkwMwdGT"
      },
      "execution_count": null,
      "outputs": []
    }
  ]
}